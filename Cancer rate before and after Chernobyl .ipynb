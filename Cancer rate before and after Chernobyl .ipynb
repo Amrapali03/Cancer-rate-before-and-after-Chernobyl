{
 "cells": [
  {
   "cell_type": "markdown",
   "id": "30512abc",
   "metadata": {},
   "source": [
    "## Part II: Getting a Real Dataset\n"
   ]
  },
  {
   "cell_type": "markdown",
   "id": "39483dde",
   "metadata": {},
   "source": [
    "### Dataset Name: Cancer rate before and after Chernobyl\n",
    "\n",
    "### Dataset source address (URL)\n",
    "+ https://www.kaggle.com/datasets/marshuu/cancer-rate-before-and-after-chernobyl\n",
    "\n",
    "### Description of the CSV dataset you download (one paragraph)\n",
    "+ The dataset contains the data from a scientific article of a magazine \"Radiation and risk\". It has year, sex , location, cases and cancer_type to describe the dataset. They published data is collected and provided by the Byelorussian center of Medical Technologies. 2 groups of cases are: cases before the accident during 1977 - 1985 and after the accident during the period 1986 till 1994 respectively. The dataset is from the cities of Gomel, Mogilev and whole of Belarus taken as an average .The cases are provided per 100.000 population.\n",
    "\n",
    "### Display all fields information (column name with short description per line)\n",
    "+ year -  includes 1985 and 1986, which refers to the 2 periods: 1977 - 1985 and 1986 - 1994 respectively.\n",
    "+ sex - includes women and men\n",
    "+ location - Mogilev, Gomel (these are most affected cities of Belarus by radiation) and average numbers for Belarus.\n",
    "+ cases - Number of cases per 100.000 population\n",
    "+ cancer_type -  Cancer types"
   ]
  },
  {
   "cell_type": "markdown",
   "id": "35049b10",
   "metadata": {},
   "source": [
    "### Reading CSV File"
   ]
  },
  {
   "cell_type": "markdown",
   "id": "bb1a2f89",
   "metadata": {},
   "source": [
    "#### Read with dictionary"
   ]
  },
  {
   "cell_type": "code",
   "execution_count": 1,
   "id": "ed6bde0c",
   "metadata": {},
   "outputs": [
    {
     "name": "stdout",
     "output_type": "stream",
     "text": [
      "<csv.DictReader object at 0x7fd8172b2250>\n",
      "Column names are year, sex, location, cancer_type, cases\n",
      "\t In 1985 women born in Gomel had skin cancer with 17.3 cases.\n",
      "\t In 1985 women born in Mogilev had skin cancer with 16.8 cases.\n",
      "\t In 1986 women born in Gomel had skin cancer with 15.6 cases.\n",
      "\t In 1986 women born in Mogilev had skin cancer with 18.3 cases.\n",
      "\t In 1985 women born in Belarus had skin cancer with 14.9 cases.\n",
      "\t In 1986 women born in Belarus had skin cancer with 16.5 cases.\n",
      "\t In 1985 men born in Gomel had skin cancer with 19.9 cases.\n",
      "\t In 1985 men born in Mogilev had skin cancer with 20.5 cases.\n",
      "\t In 1986 men born in Gomel had skin cancer with 20.1 cases.\n",
      "\t In 1986 men born in Mogilev had skin cancer with 22.4 cases.\n",
      "\t In 1985 men born in Belarus had skin cancer with 17.2 cases.\n",
      "\t In 1986 men born in Belarus had skin cancer with 20.3 cases.\n",
      "\t In 1985 women born in Gomel had thyroid cancer with 1.6 cases.\n",
      "\t In 1985 women born in Mogilev had thyroid cancer with 1.3 cases.\n",
      "\t In 1986 women born in Gomel had thyroid cancer with 6.8 cases.\n",
      "\t In 1986 women born in Mogilev had thyroid cancer with 3.5 cases.\n",
      "\t In 1985 women born in Belarus had thyroid cancer with 1.5 cases.\n",
      "\t In 1986 women born in Belarus had thyroid cancer with 4.5 cases.\n",
      "\t In 1985 men born in Gomel had thyroid cancer with 0.7 cases.\n",
      "\t In 1985 men born in Mogilev had thyroid cancer with 0.5 cases.\n",
      "\t In 1986 men born in Gomel had thyroid cancer with 2.5 cases.\n",
      "\t In 1986 men born in Mogilev had thyroid cancer with 1.1 cases.\n",
      "\t In 1985 men born in Belarus had thyroid cancer with 0.8 cases.\n",
      "\t In 1986 men born in Belarus had thyroid cancer with 1.4 cases.\n",
      "\t In 1985 women born in Gomel had lungs cancer with 3.3 cases.\n",
      "\t In 1985 women born in Mogilev had lungs cancer with 4.9 cases.\n",
      "\t In 1986 women born in Gomel had lungs cancer with 4.8 cases.\n",
      "\t In 1986 women born in Mogilev had lungs cancer with 5.6 cases.\n",
      "\t In 1985 women born in Belarus had lungs cancer with 4.7 cases.\n",
      "\t In 1986 women born in Belarus had lungs cancer with 5.7 cases.\n",
      "\t In 1985 men born in Gomel had lungs cancer with 38.1 cases.\n",
      "\t In 1985 men born in Mogilev had lungs cancer with 51.6 cases.\n",
      "\t In 1986 men born in Gomel had lungs cancer with 59.3 cases.\n",
      "\t In 1986 men born in Mogilev had lungs cancer with 73.1 cases.\n",
      "\t In 1985 men born in Belarus had lungs cancer with 44.1 cases.\n",
      "\t In 1986 men born in Belarus had lungs cancer with 65.9 cases.\n",
      "\t In 1985 women born in Gomel had pancreas cancer with 2.8 cases.\n",
      "\t In 1985 women born in Mogilev had pancreas cancer with 3.1 cases.\n",
      "\t In 1986 women born in Gomel had pancreas cancer with 3.9 cases.\n",
      "\t In 1986 women born in Mogilev had pancreas cancer with 3.6 cases.\n",
      "\t In 1985 women born in Belarus had pancreas cancer with 2.5 cases.\n",
      "\t In 1986 women born in Belarus had pancreas cancer with 3.5 cases.\n",
      "\t In 1985 men born in Gomel had pancreas cancer with 6 cases.\n",
      "\t In 1985 men born in Mogilev had pancreas cancer with 8.4 cases.\n",
      "\t In 1986 men born in Gomel had pancreas cancer with 8.7 cases.\n",
      "\t In 1986 men born in Mogilev had pancreas cancer with 8.7 cases.\n",
      "\t In 1985 men born in Belarus had pancreas cancer with 5.2 cases.\n",
      "\t In 1986 men born in Belarus had pancreas cancer with 8 cases.\n",
      "\t In 1985 women born in Gomel had colon cancer with 3.9 cases.\n",
      "\t In 1985 women born in Mogilev had colon cancer with 5.4 cases.\n",
      "\t In 1986 women born in Gomel had colon cancer with 6.2 cases.\n",
      "\t In 1986 women born in Mogilev had colon cancer with 7.5 cases.\n",
      "\t In 1985 women born in Belarus had colon cancer with 4.8 cases.\n",
      "\t In 1986 women born in Belarus had colon cancer with 7.3 cases.\n",
      "\t In 1985 men born in Gomel had colon cancer with 5.4 cases.\n",
      "\t In 1985 men born in Mogilev had colon cancer with 6.8 cases.\n",
      "\t In 1986 men born in Gomel had colon cancer with 8.1 cases.\n",
      "\t In 1986 men born in Mogilev had colon cancer with 10.2 cases.\n",
      "\t In 1985 men born in Belarus had colon cancer with 6.1 cases.\n",
      "\t In 1986 men born in Belarus had colon cancer with 9.4 cases.\n",
      "\t In 1985 women born in Gomel had rectum cancer with 5.8 cases.\n",
      "\t In 1985 women born in Mogilev had rectum cancer with 6.6 cases.\n",
      "\t In 1986 women born in Gomel had rectum cancer with 7.5 cases.\n",
      "\t In 1986 women born in Mogilev had rectum cancer with 7.6 cases.\n",
      "\t In 1985 women born in Belarus had rectum cancer with 6.4 cases.\n",
      "\t In 1986 women born in Belarus had rectum cancer with 8 cases.\n",
      "\t In 1985 men born in Gomel had rectum cancer with 7.3 cases.\n",
      "\t In 1985 men born in Mogilev had rectum cancer with 8 cases.\n",
      "\t In 1986 men born in Gomel had rectum cancer with 10.5 cases.\n",
      "\t In 1986 men born in Mogilev had rectum cancer with 12.7 cases.\n",
      "\t In 1985 men born in Belarus had rectum cancer with 8.1 cases.\n",
      "\t In 1986 men born in Belarus had rectum cancer with 11.8 cases.\n",
      "\t In 1985 women born in Gomel had kidney cancer with 1.5 cases.\n",
      "\t In 1985 women born in Mogilev had kidney cancer with 1.9 cases.\n",
      "\t In 1986 women born in Gomel had kidney cancer with 3 cases.\n",
      "\t In 1986 women born in Mogilev had kidney cancer with 3.1 cases.\n",
      "\t In 1985 women born in Belarus had kidney cancer with 1.7 cases.\n",
      "\t In 1986 women born in Belarus had kidney cancer with 3.7 cases.\n",
      "\t In 1985 men born in Gomel had kidney cancer with 2.8 cases.\n",
      "\t In 1985 men born in Mogilev had kidney cancer with 3.1 cases.\n",
      "\t In 1986 men born in Gomel had kidney cancer with 6.3 cases.\n",
      "\t In 1986 men born in Mogilev had kidney cancer with 6.8 cases.\n",
      "\t In 1985 men born in Belarus had kidney cancer with 3.5 cases.\n",
      "\t In 1986 men born in Belarus had kidney cancer with 7.5 cases.\n",
      "Processed 85 lines.\n"
     ]
    }
   ],
   "source": [
    "import csv\n",
    "\n",
    "with open('cancer_before_and_after_Chernobyl_Belarus.csv', mode='r') as csv_file:\n",
    "    csv_reader = csv.DictReader(csv_file)\n",
    "    print (csv_reader)\n",
    "    line_count = 0\n",
    "    for row in csv_reader:\n",
    "        if line_count == 0:\n",
    "            print(f'Column names are {\", \".join(row)}')\n",
    "            line_count += 1\n",
    "        print(f'\\t In {row[\"year\"]} {row[\"sex\"]} born in {row[\"location\"]} had {row[\"cancer_type\"]} cancer with {row[\"cases\"]} cases.')\n",
    "        line_count += 1\n",
    "    print(f'Processed {line_count} lines.')"
   ]
  },
  {
   "cell_type": "markdown",
   "id": "70641019",
   "metadata": {},
   "source": [
    "#### Reading CSV Files with Pandas\n",
    "+ We import pandas \n",
    "+ We use read.csv to read the file\n"
   ]
  },
  {
   "cell_type": "code",
   "execution_count": 2,
   "id": "dfae6686",
   "metadata": {
    "scrolled": true
   },
   "outputs": [
    {
     "name": "stdout",
     "output_type": "stream",
     "text": [
      "    year    sex location cancer_type  cases\n",
      "0   1985  women    Gomel        skin   17.3\n",
      "1   1985  women  Mogilev        skin   16.8\n",
      "2   1986  women    Gomel        skin   15.6\n",
      "3   1986  women  Mogilev        skin   18.3\n",
      "4   1985  women  Belarus        skin   14.9\n",
      "..   ...    ...      ...         ...    ...\n",
      "79  1985    men  Mogilev      kidney    3.1\n",
      "80  1986    men    Gomel      kidney    6.3\n",
      "81  1986    men  Mogilev      kidney    6.8\n",
      "82  1985    men  Belarus      kidney    3.5\n",
      "83  1986    men  Belarus      kidney    7.5\n",
      "\n",
      "[84 rows x 5 columns]\n"
     ]
    }
   ],
   "source": [
    "# reading the data from csv file\n",
    "import pandas as pd\n",
    "\n",
    "df = pd.read_csv('cancer_before_and_after_Chernobyl_Belarus.csv')\n",
    "print(df)"
   ]
  },
  {
   "cell_type": "markdown",
   "id": "0f31662b",
   "metadata": {},
   "source": [
    "### Implement 5 operations from the sources below (but not limited to) (feel free to use any exciting extra sources you can find)\n",
    "#### For each operation: use markdown to answer below three items\n",
    "+ describe what your question is about (what do you want to know/search/learn from the dataset)\n",
    "+ discuss what this operation does (explain Python code instructions)\n",
    "+ interpret the results from this operation"
   ]
  },
  {
   "cell_type": "markdown",
   "id": "1b134f1a",
   "metadata": {},
   "source": [
    "### 1.Retrieving Labels and Data\n",
    "+ Below we are trying to retrieve the rows and columns. \n",
    "+ 'index' gives the rows labels. 'columns' gives us the columns labels in dataframe\n",
    "+ we can retrieve and print particular columns by referencing them with the number"
   ]
  },
  {
   "cell_type": "code",
   "execution_count": 3,
   "id": "2d3b040a",
   "metadata": {
    "scrolled": false
   },
   "outputs": [
    {
     "name": "stdout",
     "output_type": "stream",
     "text": [
      "RangeIndex(start=0, stop=84, step=1)\n",
      "Index(['year', 'sex', 'location', 'cancer_type', 'cases'], dtype='object')\n",
      "sex\n"
     ]
    }
   ],
   "source": [
    "df = pd.read_csv('cancer_before_and_after_Chernobyl_Belarus.csv')\n",
    "print(df.index)\n",
    "print(df.columns)\n",
    "# print name of second column \n",
    "print(df.columns[1])"
   ]
  },
  {
   "cell_type": "markdown",
   "id": "1b75219e",
   "metadata": {},
   "source": [
    "+ we use import numpy\n",
    "+ In below example, we use numpy.arange() to generate a new sequence of row labels that holds the new set of integers. We start from 100 and can go till end of dataframe(here 84 rows so 184). This can be helpful when we want to change the numbering for a particular section of data"
   ]
  },
  {
   "cell_type": "code",
   "execution_count": 4,
   "id": "2ece2203",
   "metadata": {
    "scrolled": true
   },
   "outputs": [
    {
     "name": "stdout",
     "output_type": "stream",
     "text": [
      "     year    sex location cancer_type  cases\n",
      "100  1985  women    Gomel        skin   17.3\n",
      "101  1985  women  Mogilev        skin   16.8\n",
      "102  1986  women    Gomel        skin   15.6\n",
      "103  1986  women  Mogilev        skin   18.3\n",
      "104  1985  women  Belarus        skin   14.9\n",
      "..    ...    ...      ...         ...    ...\n",
      "179  1985    men  Mogilev      kidney    3.1\n",
      "180  1986    men    Gomel      kidney    6.3\n",
      "181  1986    men  Mogilev      kidney    6.8\n",
      "182  1985    men  Belarus      kidney    3.5\n",
      "183  1986    men  Belarus      kidney    7.5\n",
      "\n",
      "[84 rows x 5 columns]\n"
     ]
    }
   ],
   "source": [
    "import numpy as np\n",
    "# updating the numbering from row labels\n",
    "df.index = np.arange(100, 184)\n",
    "print (df)"
   ]
  },
  {
   "cell_type": "markdown",
   "id": "bd99a562",
   "metadata": {},
   "source": [
    "+ Below we are trying to extract the data of a particular column(cancer_type) and store it in a variable which could be used later as required"
   ]
  },
  {
   "cell_type": "code",
   "execution_count": 5,
   "id": "000d9b54",
   "metadata": {
    "scrolled": true
   },
   "outputs": [
    {
     "data": {
      "text/plain": [
       "100      skin\n",
       "101      skin\n",
       "102      skin\n",
       "103      skin\n",
       "104      skin\n",
       "        ...  \n",
       "179    kidney\n",
       "180    kidney\n",
       "181    kidney\n",
       "182    kidney\n",
       "183    kidney\n",
       "Name: cancer_type, Length: 84, dtype: object"
      ]
     },
     "execution_count": 5,
     "metadata": {},
     "output_type": "execute_result"
    }
   ],
   "source": [
    "cancer_types = df['cancer_type']\n",
    "cancer_types"
   ]
  },
  {
   "cell_type": "markdown",
   "id": "acec6e04",
   "metadata": {},
   "source": [
    "### 2.Show statistics\n",
    "+ For getting statistical results from a dataframe we can use describe() method. Here the year and cases are the numeric columns on which the method is operated.\n",
    "+ This will be useful while we try to do some data analysis"
   ]
  },
  {
   "cell_type": "code",
   "execution_count": 6,
   "id": "9981665b",
   "metadata": {
    "scrolled": true
   },
   "outputs": [
    {
     "data": {
      "text/html": [
       "<div>\n",
       "<style scoped>\n",
       "    .dataframe tbody tr th:only-of-type {\n",
       "        vertical-align: middle;\n",
       "    }\n",
       "\n",
       "    .dataframe tbody tr th {\n",
       "        vertical-align: top;\n",
       "    }\n",
       "\n",
       "    .dataframe thead th {\n",
       "        text-align: right;\n",
       "    }\n",
       "</style>\n",
       "<table border=\"1\" class=\"dataframe\">\n",
       "  <thead>\n",
       "    <tr style=\"text-align: right;\">\n",
       "      <th></th>\n",
       "      <th>year</th>\n",
       "      <th>cases</th>\n",
       "    </tr>\n",
       "  </thead>\n",
       "  <tbody>\n",
       "    <tr>\n",
       "      <th>count</th>\n",
       "      <td>84.000000</td>\n",
       "      <td>84.000000</td>\n",
       "    </tr>\n",
       "    <tr>\n",
       "      <th>mean</th>\n",
       "      <td>1985.500000</td>\n",
       "      <td>10.688095</td>\n",
       "    </tr>\n",
       "    <tr>\n",
       "      <th>std</th>\n",
       "      <td>0.503003</td>\n",
       "      <td>13.924031</td>\n",
       "    </tr>\n",
       "    <tr>\n",
       "      <th>min</th>\n",
       "      <td>1985.000000</td>\n",
       "      <td>0.500000</td>\n",
       "    </tr>\n",
       "    <tr>\n",
       "      <th>25%</th>\n",
       "      <td>1985.000000</td>\n",
       "      <td>3.500000</td>\n",
       "    </tr>\n",
       "    <tr>\n",
       "      <th>50%</th>\n",
       "      <td>1985.500000</td>\n",
       "      <td>6.350000</td>\n",
       "    </tr>\n",
       "    <tr>\n",
       "      <th>75%</th>\n",
       "      <td>1986.000000</td>\n",
       "      <td>10.275000</td>\n",
       "    </tr>\n",
       "    <tr>\n",
       "      <th>max</th>\n",
       "      <td>1986.000000</td>\n",
       "      <td>73.100000</td>\n",
       "    </tr>\n",
       "  </tbody>\n",
       "</table>\n",
       "</div>"
      ],
      "text/plain": [
       "              year      cases\n",
       "count    84.000000  84.000000\n",
       "mean   1985.500000  10.688095\n",
       "std       0.503003  13.924031\n",
       "min    1985.000000   0.500000\n",
       "25%    1985.000000   3.500000\n",
       "50%    1985.500000   6.350000\n",
       "75%    1986.000000  10.275000\n",
       "max    1986.000000  73.100000"
      ]
     },
     "execution_count": 6,
     "metadata": {},
     "output_type": "execute_result"
    }
   ],
   "source": [
    "df = pd.read_csv('cancer_before_and_after_Chernobyl_Belarus.csv')\n",
    "# describe() shows a quick statistic summary of your data\n",
    "df.describe()"
   ]
  },
  {
   "cell_type": "markdown",
   "id": "3d2ff444",
   "metadata": {},
   "source": [
    "### 3.Sorting\n"
   ]
  },
  {
   "cell_type": "markdown",
   "id": "847f045d",
   "metadata": {},
   "source": [
    "+ We can sort by index or column \n",
    "+  rows (axis=0) or columns (axis=1)\n",
    "+ Here we are sorting based on column( difference in output is that positions of columns 'cases' and 'cancer_type' are interchanged based on desceding order of the alphabets)"
   ]
  },
  {
   "cell_type": "code",
   "execution_count": 7,
   "id": "65c8b868",
   "metadata": {
    "scrolled": false
   },
   "outputs": [
    {
     "data": {
      "text/html": [
       "<div>\n",
       "<style scoped>\n",
       "    .dataframe tbody tr th:only-of-type {\n",
       "        vertical-align: middle;\n",
       "    }\n",
       "\n",
       "    .dataframe tbody tr th {\n",
       "        vertical-align: top;\n",
       "    }\n",
       "\n",
       "    .dataframe thead th {\n",
       "        text-align: right;\n",
       "    }\n",
       "</style>\n",
       "<table border=\"1\" class=\"dataframe\">\n",
       "  <thead>\n",
       "    <tr style=\"text-align: right;\">\n",
       "      <th></th>\n",
       "      <th>year</th>\n",
       "      <th>sex</th>\n",
       "      <th>location</th>\n",
       "      <th>cases</th>\n",
       "      <th>cancer_type</th>\n",
       "    </tr>\n",
       "  </thead>\n",
       "  <tbody>\n",
       "    <tr>\n",
       "      <th>0</th>\n",
       "      <td>1985</td>\n",
       "      <td>women</td>\n",
       "      <td>Gomel</td>\n",
       "      <td>17.3</td>\n",
       "      <td>skin</td>\n",
       "    </tr>\n",
       "    <tr>\n",
       "      <th>1</th>\n",
       "      <td>1985</td>\n",
       "      <td>women</td>\n",
       "      <td>Mogilev</td>\n",
       "      <td>16.8</td>\n",
       "      <td>skin</td>\n",
       "    </tr>\n",
       "    <tr>\n",
       "      <th>2</th>\n",
       "      <td>1986</td>\n",
       "      <td>women</td>\n",
       "      <td>Gomel</td>\n",
       "      <td>15.6</td>\n",
       "      <td>skin</td>\n",
       "    </tr>\n",
       "    <tr>\n",
       "      <th>3</th>\n",
       "      <td>1986</td>\n",
       "      <td>women</td>\n",
       "      <td>Mogilev</td>\n",
       "      <td>18.3</td>\n",
       "      <td>skin</td>\n",
       "    </tr>\n",
       "    <tr>\n",
       "      <th>4</th>\n",
       "      <td>1985</td>\n",
       "      <td>women</td>\n",
       "      <td>Belarus</td>\n",
       "      <td>14.9</td>\n",
       "      <td>skin</td>\n",
       "    </tr>\n",
       "    <tr>\n",
       "      <th>...</th>\n",
       "      <td>...</td>\n",
       "      <td>...</td>\n",
       "      <td>...</td>\n",
       "      <td>...</td>\n",
       "      <td>...</td>\n",
       "    </tr>\n",
       "    <tr>\n",
       "      <th>79</th>\n",
       "      <td>1985</td>\n",
       "      <td>men</td>\n",
       "      <td>Mogilev</td>\n",
       "      <td>3.1</td>\n",
       "      <td>kidney</td>\n",
       "    </tr>\n",
       "    <tr>\n",
       "      <th>80</th>\n",
       "      <td>1986</td>\n",
       "      <td>men</td>\n",
       "      <td>Gomel</td>\n",
       "      <td>6.3</td>\n",
       "      <td>kidney</td>\n",
       "    </tr>\n",
       "    <tr>\n",
       "      <th>81</th>\n",
       "      <td>1986</td>\n",
       "      <td>men</td>\n",
       "      <td>Mogilev</td>\n",
       "      <td>6.8</td>\n",
       "      <td>kidney</td>\n",
       "    </tr>\n",
       "    <tr>\n",
       "      <th>82</th>\n",
       "      <td>1985</td>\n",
       "      <td>men</td>\n",
       "      <td>Belarus</td>\n",
       "      <td>3.5</td>\n",
       "      <td>kidney</td>\n",
       "    </tr>\n",
       "    <tr>\n",
       "      <th>83</th>\n",
       "      <td>1986</td>\n",
       "      <td>men</td>\n",
       "      <td>Belarus</td>\n",
       "      <td>7.5</td>\n",
       "      <td>kidney</td>\n",
       "    </tr>\n",
       "  </tbody>\n",
       "</table>\n",
       "<p>84 rows × 5 columns</p>\n",
       "</div>"
      ],
      "text/plain": [
       "    year    sex location  cases cancer_type\n",
       "0   1985  women    Gomel   17.3        skin\n",
       "1   1985  women  Mogilev   16.8        skin\n",
       "2   1986  women    Gomel   15.6        skin\n",
       "3   1986  women  Mogilev   18.3        skin\n",
       "4   1985  women  Belarus   14.9        skin\n",
       "..   ...    ...      ...    ...         ...\n",
       "79  1985    men  Mogilev    3.1      kidney\n",
       "80  1986    men    Gomel    6.3      kidney\n",
       "81  1986    men  Mogilev    6.8      kidney\n",
       "82  1985    men  Belarus    3.5      kidney\n",
       "83  1986    men  Belarus    7.5      kidney\n",
       "\n",
       "[84 rows x 5 columns]"
      ]
     },
     "execution_count": 7,
     "metadata": {},
     "output_type": "execute_result"
    }
   ],
   "source": [
    "df = pd.read_csv('cancer_before_and_after_Chernobyl_Belarus.csv')\n",
    "df.sort_index(axis=1, ascending=False)\n"
   ]
  },
  {
   "cell_type": "markdown",
   "id": "0e3ede35",
   "metadata": {},
   "source": [
    "+ Sorting by a column of choice is done by using sort_values()\n",
    "+ We are trying to sort by decreasing number of cases here\n"
   ]
  },
  {
   "cell_type": "code",
   "execution_count": 8,
   "id": "26df5c37",
   "metadata": {
    "scrolled": true
   },
   "outputs": [
    {
     "data": {
      "text/html": [
       "<div>\n",
       "<style scoped>\n",
       "    .dataframe tbody tr th:only-of-type {\n",
       "        vertical-align: middle;\n",
       "    }\n",
       "\n",
       "    .dataframe tbody tr th {\n",
       "        vertical-align: top;\n",
       "    }\n",
       "\n",
       "    .dataframe thead th {\n",
       "        text-align: right;\n",
       "    }\n",
       "</style>\n",
       "<table border=\"1\" class=\"dataframe\">\n",
       "  <thead>\n",
       "    <tr style=\"text-align: right;\">\n",
       "      <th></th>\n",
       "      <th>year</th>\n",
       "      <th>sex</th>\n",
       "      <th>location</th>\n",
       "      <th>cancer_type</th>\n",
       "      <th>cases</th>\n",
       "    </tr>\n",
       "  </thead>\n",
       "  <tbody>\n",
       "    <tr>\n",
       "      <th>33</th>\n",
       "      <td>1986</td>\n",
       "      <td>men</td>\n",
       "      <td>Mogilev</td>\n",
       "      <td>lungs</td>\n",
       "      <td>73.1</td>\n",
       "    </tr>\n",
       "    <tr>\n",
       "      <th>35</th>\n",
       "      <td>1986</td>\n",
       "      <td>men</td>\n",
       "      <td>Belarus</td>\n",
       "      <td>lungs</td>\n",
       "      <td>65.9</td>\n",
       "    </tr>\n",
       "    <tr>\n",
       "      <th>32</th>\n",
       "      <td>1986</td>\n",
       "      <td>men</td>\n",
       "      <td>Gomel</td>\n",
       "      <td>lungs</td>\n",
       "      <td>59.3</td>\n",
       "    </tr>\n",
       "    <tr>\n",
       "      <th>31</th>\n",
       "      <td>1985</td>\n",
       "      <td>men</td>\n",
       "      <td>Mogilev</td>\n",
       "      <td>lungs</td>\n",
       "      <td>51.6</td>\n",
       "    </tr>\n",
       "    <tr>\n",
       "      <th>34</th>\n",
       "      <td>1985</td>\n",
       "      <td>men</td>\n",
       "      <td>Belarus</td>\n",
       "      <td>lungs</td>\n",
       "      <td>44.1</td>\n",
       "    </tr>\n",
       "    <tr>\n",
       "      <th>...</th>\n",
       "      <td>...</td>\n",
       "      <td>...</td>\n",
       "      <td>...</td>\n",
       "      <td>...</td>\n",
       "      <td>...</td>\n",
       "    </tr>\n",
       "    <tr>\n",
       "      <th>13</th>\n",
       "      <td>1985</td>\n",
       "      <td>women</td>\n",
       "      <td>Mogilev</td>\n",
       "      <td>thyroid</td>\n",
       "      <td>1.3</td>\n",
       "    </tr>\n",
       "    <tr>\n",
       "      <th>21</th>\n",
       "      <td>1986</td>\n",
       "      <td>men</td>\n",
       "      <td>Mogilev</td>\n",
       "      <td>thyroid</td>\n",
       "      <td>1.1</td>\n",
       "    </tr>\n",
       "    <tr>\n",
       "      <th>22</th>\n",
       "      <td>1985</td>\n",
       "      <td>men</td>\n",
       "      <td>Belarus</td>\n",
       "      <td>thyroid</td>\n",
       "      <td>0.8</td>\n",
       "    </tr>\n",
       "    <tr>\n",
       "      <th>18</th>\n",
       "      <td>1985</td>\n",
       "      <td>men</td>\n",
       "      <td>Gomel</td>\n",
       "      <td>thyroid</td>\n",
       "      <td>0.7</td>\n",
       "    </tr>\n",
       "    <tr>\n",
       "      <th>19</th>\n",
       "      <td>1985</td>\n",
       "      <td>men</td>\n",
       "      <td>Mogilev</td>\n",
       "      <td>thyroid</td>\n",
       "      <td>0.5</td>\n",
       "    </tr>\n",
       "  </tbody>\n",
       "</table>\n",
       "<p>84 rows × 5 columns</p>\n",
       "</div>"
      ],
      "text/plain": [
       "    year    sex location cancer_type  cases\n",
       "33  1986    men  Mogilev       lungs   73.1\n",
       "35  1986    men  Belarus       lungs   65.9\n",
       "32  1986    men    Gomel       lungs   59.3\n",
       "31  1985    men  Mogilev       lungs   51.6\n",
       "34  1985    men  Belarus       lungs   44.1\n",
       "..   ...    ...      ...         ...    ...\n",
       "13  1985  women  Mogilev     thyroid    1.3\n",
       "21  1986    men  Mogilev     thyroid    1.1\n",
       "22  1985    men  Belarus     thyroid    0.8\n",
       "18  1985    men    Gomel     thyroid    0.7\n",
       "19  1985    men  Mogilev     thyroid    0.5\n",
       "\n",
       "[84 rows x 5 columns]"
      ]
     },
     "execution_count": 8,
     "metadata": {},
     "output_type": "execute_result"
    }
   ],
   "source": [
    "df = pd.read_csv('cancer_before_and_after_Chernobyl_Belarus.csv')\n",
    "df.sort_values(by='cases', ascending=False)"
   ]
  },
  {
   "cell_type": "markdown",
   "id": "e129600f",
   "metadata": {},
   "source": [
    "### 4.Slicing data with accessors"
   ]
  },
  {
   "cell_type": "markdown",
   "id": "535d1a3b",
   "metadata": {},
   "source": [
    "+ We can retrieve data based on needs by giving the indexes with slicing technique\n",
    "+ Below we aim to get the data from 4th row and 5th(3:5) row and first two columns(0:2) "
   ]
  },
  {
   "cell_type": "code",
   "execution_count": 9,
   "id": "f9a80726",
   "metadata": {
    "scrolled": true
   },
   "outputs": [
    {
     "data": {
      "text/html": [
       "<div>\n",
       "<style scoped>\n",
       "    .dataframe tbody tr th:only-of-type {\n",
       "        vertical-align: middle;\n",
       "    }\n",
       "\n",
       "    .dataframe tbody tr th {\n",
       "        vertical-align: top;\n",
       "    }\n",
       "\n",
       "    .dataframe thead th {\n",
       "        text-align: right;\n",
       "    }\n",
       "</style>\n",
       "<table border=\"1\" class=\"dataframe\">\n",
       "  <thead>\n",
       "    <tr style=\"text-align: right;\">\n",
       "      <th></th>\n",
       "      <th>year</th>\n",
       "      <th>sex</th>\n",
       "    </tr>\n",
       "  </thead>\n",
       "  <tbody>\n",
       "    <tr>\n",
       "      <th>3</th>\n",
       "      <td>1986</td>\n",
       "      <td>women</td>\n",
       "    </tr>\n",
       "    <tr>\n",
       "      <th>4</th>\n",
       "      <td>1985</td>\n",
       "      <td>women</td>\n",
       "    </tr>\n",
       "  </tbody>\n",
       "</table>\n",
       "</div>"
      ],
      "text/plain": [
       "   year    sex\n",
       "3  1986  women\n",
       "4  1985  women"
      ]
     },
     "execution_count": 9,
     "metadata": {},
     "output_type": "execute_result"
    }
   ],
   "source": [
    "# we retreive 4th row and 5th row and first two columns \n",
    "df.iloc[3:5, 0:2]"
   ]
  },
  {
   "cell_type": "markdown",
   "id": "aecf2fda",
   "metadata": {},
   "source": [
    "### 5.Grouping data and summing by grouped data\n",
    "+ We can group the data based on needed columns to get results\n",
    "+ Here, we are grouping by year 1985 and 1986, and summing up the cases\n",
    "+ These kind of operation is useful if we want any summation of a numeric column based on a particular group"
   ]
  },
  {
   "cell_type": "code",
   "execution_count": 10,
   "id": "15da21eb",
   "metadata": {
    "scrolled": false
   },
   "outputs": [
    {
     "data": {
      "text/html": [
       "<div>\n",
       "<style scoped>\n",
       "    .dataframe tbody tr th:only-of-type {\n",
       "        vertical-align: middle;\n",
       "    }\n",
       "\n",
       "    .dataframe tbody tr th {\n",
       "        vertical-align: top;\n",
       "    }\n",
       "\n",
       "    .dataframe thead th {\n",
       "        text-align: right;\n",
       "    }\n",
       "</style>\n",
       "<table border=\"1\" class=\"dataframe\">\n",
       "  <thead>\n",
       "    <tr style=\"text-align: right;\">\n",
       "      <th></th>\n",
       "      <th>cases</th>\n",
       "    </tr>\n",
       "    <tr>\n",
       "      <th>year</th>\n",
       "      <th></th>\n",
       "    </tr>\n",
       "  </thead>\n",
       "  <tbody>\n",
       "    <tr>\n",
       "      <th>1985</th>\n",
       "      <td>376.8</td>\n",
       "    </tr>\n",
       "    <tr>\n",
       "      <th>1986</th>\n",
       "      <td>521.0</td>\n",
       "    </tr>\n",
       "  </tbody>\n",
       "</table>\n",
       "</div>"
      ],
      "text/plain": [
       "      cases\n",
       "year       \n",
       "1985  376.8\n",
       "1986  521.0"
      ]
     },
     "execution_count": 10,
     "metadata": {},
     "output_type": "execute_result"
    }
   ],
   "source": [
    "# Grouping and then applying the sum() function to the resulting groups:\n",
    "df = pd.read_csv('cancer_before_and_after_Chernobyl_Belarus.csv')\n",
    "df.groupby(\"year\")[[\"cases\"]].sum()"
   ]
  },
  {
   "cell_type": "markdown",
   "id": "4a8a8848",
   "metadata": {},
   "source": [
    "### 6.Filtering"
   ]
  },
  {
   "cell_type": "markdown",
   "id": "1c58eff1",
   "metadata": {},
   "source": [
    "+ In this case, df['cases'] >= 30 returns True for those rows in which the cases is greater than or equal to 30. It returns False for the rows where cases is less than 30\n",
    "+ From Series filter_ gives the records filled with Boolean data as per filter provided.\n",
    "+ The expression df[filter_] returns a Pandas DataFrame with the rows from df that correspond to True in filter_"
   ]
  },
  {
   "cell_type": "code",
   "execution_count": 11,
   "id": "52c551e0",
   "metadata": {},
   "outputs": [
    {
     "name": "stdout",
     "output_type": "stream",
     "text": [
      "0     False\n",
      "1     False\n",
      "2     False\n",
      "3     False\n",
      "4     False\n",
      "      ...  \n",
      "79    False\n",
      "80    False\n",
      "81    False\n",
      "82    False\n",
      "83    False\n",
      "Name: cases, Length: 84, dtype: bool\n"
     ]
    }
   ],
   "source": [
    "\n",
    "filter_ = df['cases'] >= 30\n",
    "print(filter_)\n"
   ]
  },
  {
   "cell_type": "code",
   "execution_count": 12,
   "id": "ee6fb20b",
   "metadata": {
    "scrolled": true
   },
   "outputs": [
    {
     "data": {
      "text/html": [
       "<div>\n",
       "<style scoped>\n",
       "    .dataframe tbody tr th:only-of-type {\n",
       "        vertical-align: middle;\n",
       "    }\n",
       "\n",
       "    .dataframe tbody tr th {\n",
       "        vertical-align: top;\n",
       "    }\n",
       "\n",
       "    .dataframe thead th {\n",
       "        text-align: right;\n",
       "    }\n",
       "</style>\n",
       "<table border=\"1\" class=\"dataframe\">\n",
       "  <thead>\n",
       "    <tr style=\"text-align: right;\">\n",
       "      <th></th>\n",
       "      <th>year</th>\n",
       "      <th>sex</th>\n",
       "      <th>location</th>\n",
       "      <th>cancer_type</th>\n",
       "      <th>cases</th>\n",
       "    </tr>\n",
       "  </thead>\n",
       "  <tbody>\n",
       "    <tr>\n",
       "      <th>30</th>\n",
       "      <td>1985</td>\n",
       "      <td>men</td>\n",
       "      <td>Gomel</td>\n",
       "      <td>lungs</td>\n",
       "      <td>38.1</td>\n",
       "    </tr>\n",
       "    <tr>\n",
       "      <th>31</th>\n",
       "      <td>1985</td>\n",
       "      <td>men</td>\n",
       "      <td>Mogilev</td>\n",
       "      <td>lungs</td>\n",
       "      <td>51.6</td>\n",
       "    </tr>\n",
       "    <tr>\n",
       "      <th>32</th>\n",
       "      <td>1986</td>\n",
       "      <td>men</td>\n",
       "      <td>Gomel</td>\n",
       "      <td>lungs</td>\n",
       "      <td>59.3</td>\n",
       "    </tr>\n",
       "    <tr>\n",
       "      <th>33</th>\n",
       "      <td>1986</td>\n",
       "      <td>men</td>\n",
       "      <td>Mogilev</td>\n",
       "      <td>lungs</td>\n",
       "      <td>73.1</td>\n",
       "    </tr>\n",
       "    <tr>\n",
       "      <th>34</th>\n",
       "      <td>1985</td>\n",
       "      <td>men</td>\n",
       "      <td>Belarus</td>\n",
       "      <td>lungs</td>\n",
       "      <td>44.1</td>\n",
       "    </tr>\n",
       "    <tr>\n",
       "      <th>35</th>\n",
       "      <td>1986</td>\n",
       "      <td>men</td>\n",
       "      <td>Belarus</td>\n",
       "      <td>lungs</td>\n",
       "      <td>65.9</td>\n",
       "    </tr>\n",
       "  </tbody>\n",
       "</table>\n",
       "</div>"
      ],
      "text/plain": [
       "    year  sex location cancer_type  cases\n",
       "30  1985  men    Gomel       lungs   38.1\n",
       "31  1985  men  Mogilev       lungs   51.6\n",
       "32  1986  men    Gomel       lungs   59.3\n",
       "33  1986  men  Mogilev       lungs   73.1\n",
       "34  1985  men  Belarus       lungs   44.1\n",
       "35  1986  men  Belarus       lungs   65.9"
      ]
     },
     "execution_count": 12,
     "metadata": {},
     "output_type": "execute_result"
    }
   ],
   "source": [
    "df[filter_]"
   ]
  },
  {
   "cell_type": "markdown",
   "id": "1003d459",
   "metadata": {},
   "source": [
    "### 7.Inserting data\n",
    "+ Sometimes there might be a need to add  a new row of data. We need to create a new series object for that.The new object has labels that correspond to the column labels from df and hence we write index=df.columns.\n",
    "+ Then we need to append that data to the dataframe as a new row, which is added to last 84th row"
   ]
  },
  {
   "cell_type": "code",
   "execution_count": 13,
   "id": "93c7708a",
   "metadata": {},
   "outputs": [
    {
     "data": {
      "text/plain": [
       "year            1986\n",
       "sex              men\n",
       "location       Gomel\n",
       "cancer_type     skin\n",
       "cases            7.5\n",
       "Name: 84, dtype: object"
      ]
     },
     "execution_count": 13,
     "metadata": {},
     "output_type": "execute_result"
    }
   ],
   "source": [
    "df = pd.read_csv('cancer_before_and_after_Chernobyl_Belarus.csv')\n",
    "new = pd.Series(data=['1986', 'men', 'Gomel', 'skin', '7.5'],\n",
    "                  index=df.columns, name=84)\n",
    "new"
   ]
  },
  {
   "cell_type": "code",
   "execution_count": 14,
   "id": "e5d9411e",
   "metadata": {},
   "outputs": [
    {
     "name": "stderr",
     "output_type": "stream",
     "text": [
      "/var/folders/80/ghdt2w012_x2yg018vx45m300000gn/T/ipykernel_17299/333496748.py:1: FutureWarning: The frame.append method is deprecated and will be removed from pandas in a future version. Use pandas.concat instead.\n",
      "  df = df.append(new)\n"
     ]
    },
    {
     "data": {
      "text/html": [
       "<div>\n",
       "<style scoped>\n",
       "    .dataframe tbody tr th:only-of-type {\n",
       "        vertical-align: middle;\n",
       "    }\n",
       "\n",
       "    .dataframe tbody tr th {\n",
       "        vertical-align: top;\n",
       "    }\n",
       "\n",
       "    .dataframe thead th {\n",
       "        text-align: right;\n",
       "    }\n",
       "</style>\n",
       "<table border=\"1\" class=\"dataframe\">\n",
       "  <thead>\n",
       "    <tr style=\"text-align: right;\">\n",
       "      <th></th>\n",
       "      <th>year</th>\n",
       "      <th>sex</th>\n",
       "      <th>location</th>\n",
       "      <th>cancer_type</th>\n",
       "      <th>cases</th>\n",
       "    </tr>\n",
       "  </thead>\n",
       "  <tbody>\n",
       "    <tr>\n",
       "      <th>0</th>\n",
       "      <td>1985</td>\n",
       "      <td>women</td>\n",
       "      <td>Gomel</td>\n",
       "      <td>skin</td>\n",
       "      <td>17.3</td>\n",
       "    </tr>\n",
       "    <tr>\n",
       "      <th>1</th>\n",
       "      <td>1985</td>\n",
       "      <td>women</td>\n",
       "      <td>Mogilev</td>\n",
       "      <td>skin</td>\n",
       "      <td>16.8</td>\n",
       "    </tr>\n",
       "    <tr>\n",
       "      <th>2</th>\n",
       "      <td>1986</td>\n",
       "      <td>women</td>\n",
       "      <td>Gomel</td>\n",
       "      <td>skin</td>\n",
       "      <td>15.6</td>\n",
       "    </tr>\n",
       "    <tr>\n",
       "      <th>3</th>\n",
       "      <td>1986</td>\n",
       "      <td>women</td>\n",
       "      <td>Mogilev</td>\n",
       "      <td>skin</td>\n",
       "      <td>18.3</td>\n",
       "    </tr>\n",
       "    <tr>\n",
       "      <th>4</th>\n",
       "      <td>1985</td>\n",
       "      <td>women</td>\n",
       "      <td>Belarus</td>\n",
       "      <td>skin</td>\n",
       "      <td>14.9</td>\n",
       "    </tr>\n",
       "    <tr>\n",
       "      <th>...</th>\n",
       "      <td>...</td>\n",
       "      <td>...</td>\n",
       "      <td>...</td>\n",
       "      <td>...</td>\n",
       "      <td>...</td>\n",
       "    </tr>\n",
       "    <tr>\n",
       "      <th>80</th>\n",
       "      <td>1986</td>\n",
       "      <td>men</td>\n",
       "      <td>Gomel</td>\n",
       "      <td>kidney</td>\n",
       "      <td>6.3</td>\n",
       "    </tr>\n",
       "    <tr>\n",
       "      <th>81</th>\n",
       "      <td>1986</td>\n",
       "      <td>men</td>\n",
       "      <td>Mogilev</td>\n",
       "      <td>kidney</td>\n",
       "      <td>6.8</td>\n",
       "    </tr>\n",
       "    <tr>\n",
       "      <th>82</th>\n",
       "      <td>1985</td>\n",
       "      <td>men</td>\n",
       "      <td>Belarus</td>\n",
       "      <td>kidney</td>\n",
       "      <td>3.5</td>\n",
       "    </tr>\n",
       "    <tr>\n",
       "      <th>83</th>\n",
       "      <td>1986</td>\n",
       "      <td>men</td>\n",
       "      <td>Belarus</td>\n",
       "      <td>kidney</td>\n",
       "      <td>7.5</td>\n",
       "    </tr>\n",
       "    <tr>\n",
       "      <th>84</th>\n",
       "      <td>1986</td>\n",
       "      <td>men</td>\n",
       "      <td>Gomel</td>\n",
       "      <td>skin</td>\n",
       "      <td>7.5</td>\n",
       "    </tr>\n",
       "  </tbody>\n",
       "</table>\n",
       "<p>85 rows × 5 columns</p>\n",
       "</div>"
      ],
      "text/plain": [
       "    year    sex location cancer_type cases\n",
       "0   1985  women    Gomel        skin  17.3\n",
       "1   1985  women  Mogilev        skin  16.8\n",
       "2   1986  women    Gomel        skin  15.6\n",
       "3   1986  women  Mogilev        skin  18.3\n",
       "4   1985  women  Belarus        skin  14.9\n",
       "..   ...    ...      ...         ...   ...\n",
       "80  1986    men    Gomel      kidney   6.3\n",
       "81  1986    men  Mogilev      kidney   6.8\n",
       "82  1985    men  Belarus      kidney   3.5\n",
       "83  1986    men  Belarus      kidney   7.5\n",
       "84  1986    men    Gomel        skin   7.5\n",
       "\n",
       "[85 rows x 5 columns]"
      ]
     },
     "execution_count": 14,
     "metadata": {},
     "output_type": "execute_result"
    }
   ],
   "source": [
    "df = df.append(new)\n",
    "df"
   ]
  },
  {
   "cell_type": "code",
   "execution_count": null,
   "id": "b46e6a8e",
   "metadata": {},
   "outputs": [],
   "source": []
  }
 ],
 "metadata": {
  "kernelspec": {
   "display_name": "Python 3 (ipykernel)",
   "language": "python",
   "name": "python3"
  },
  "language_info": {
   "codemirror_mode": {
    "name": "ipython",
    "version": 3
   },
   "file_extension": ".py",
   "mimetype": "text/x-python",
   "name": "python",
   "nbconvert_exporter": "python",
   "pygments_lexer": "ipython3",
   "version": "3.9.12"
  }
 },
 "nbformat": 4,
 "nbformat_minor": 5
}
